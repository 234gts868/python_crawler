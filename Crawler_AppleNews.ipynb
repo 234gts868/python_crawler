{
 "cells": [
  {
   "cell_type": "code",
   "execution_count": 2,
   "metadata": {},
   "outputs": [],
   "source": [
    "# %load apple.py\n",
    "import requests\n",
    "from bs4 import BeautifulSoup\n",
    "import datetime\n",
    "import re\n",
    "import MySQLdb\n",
    "import sys,time\n"
   ]
  },
  {
   "cell_type": "code",
   "execution_count": null,
   "metadata": {},
   "outputs": [],
   "source": [
    "#choose day\n",
    "begin = datetime.date(2018,9,21) \n",
    "end = datetime.date(2018,9,20)\n",
    "d = begin\n",
    "#count day by delta \n",
    "delta = datetime.timedelta(days=1)\n",
    "data= []"
   ]
  },
  {
   "cell_type": "code",
   "execution_count": null,
   "metadata": {},
   "outputs": [],
   "source": [
    "#while util day to end\n",
    "while d >= end:\n",
    "    print(d)\n",
    "    date = d.strftime(\"%Y%m%d\")\n",
    "    date_url = 'https://tw.appledaily.com/appledaily/archive/' + date #date of apple news\n",
    "    res = requests.get(date_url)\n",
    "    soup = BeautifulSoup(res.text,'html.parser')\n",
    "    articles = soup.select('ul.fillup li a')  #aritles\n",
    "     \n",
    "    for article in articles:\n",
    "        try:\n",
    "            if article['href'].find(\"http://\") != -1 or article['href'].find(\"https://\") != -1:\n",
    "            #judge the url is not right\n",
    "            #if article['href'].find(\"http://\")!=-1:\n",
    "                 article_url = article['href']\n",
    "                 res = requests.get(article_url)              \n",
    "                 soup = BeautifulSoup(res.text,'html.parser')    \n",
    "                 if article_url.find(\"home\") == -1: #board\n",
    "                    title = soup.select('hgroup h1')[0]  \n",
    "                    time = soup.select('div.ndArticle_creat') [0]\n",
    "                    content = soup.select('.ndArticle_margin p') \n",
    "                 else:\n",
    "                     title = soup.select('.ncbox_cont h1') [0]               \n",
    "                     content = soup.select('p')\n",
    "                     time = soup.select('div time')[0]\n",
    "                 title = re.sub('\\[*<+/?\\w+[^>]*>+\\]*','',str(title))     \n",
    "                 content = re.sub(r'\\[*<+/?\\w+[^>]*>+\\]*','',str(content))\n",
    "                 time = re.sub(r'\\[*<+/?\\w+[^>]*>+\\]*','',str(time))\n",
    "                #assign the board from the url \n",
    "                 if article_url.find(\"headline/daily/\") != -1: \n",
    "                     board = \"headline\"\n",
    "                 elif article_url.find(\"entertainment\") != -1:\n",
    "                    board = \"entertainment\"\n",
    "                 elif article_url.find(\"international\") != -1:\n",
    "                    board = \"international\"\n",
    "                 elif article_url.find(\"sports\") != -1:\n",
    "                    board = \"sports\"\n",
    "                 elif article_url.find(\"finance\") != -1:\n",
    "                    board = \"finance\"\n",
    "                 elif article_url.find(\"home\") != -1:   \n",
    "                    board =\"home\"\n",
    "                 if article_url.find(\"lifestyle\") != -1:\n",
    "                    board = \"lifestyle\"\n",
    "                 elif article_url.find(\"forum\") != -1:\n",
    "                    board = \"forum\"\n",
    "    ##                 dic = {'title' : title , 'time' : time , 'board' : board , 'content':content, 'url':article_url}\n",
    "    ##                 data.append(dic)\n",
    "                 db = MySQLdb.connect(\"database\",\"account\", \"password\", \"table\")\n",
    "                 cursor = db.cursor()\n",
    "                 db.set_character_set('utf8')\n",
    "                 cursor.execute('SET NAMES utf8;')\n",
    "                 cursor.execute('SET CHARACTER SET utf8;')\n",
    "                 cursor.execute('SET character_set_connection=utf8;')\n",
    "                #insert new apple news into the database\n",
    "                 insert_apple_news = (\"INSERT INTO \" +board+\"_\" +d.strftime(\"%Y\")+\"(Title,Time,Board,Content,Url)\" \"VALUES(%s,%s,%s,%s,%s)\")\n",
    "                #update the older the apple news\n",
    "                #update_apple_news = (\"UPDATE\" +board+\"_\" +d.strftime(\"%Y\")+\" SET Content = %s WHERE Title= %s\")\n",
    "                 data_apple_news = (title,d,board,content,article_url)\n",
    "                 cursor.execute(insert_apple_news, data_apple_news)\n",
    "                 #cursor.execute(\"UPDATE \" +board+\"_\" +d.strftime(\"%Y\")+\" SET Content = %s WHERE Title= %s\" , (content,title))\n",
    "                 db.commit()\n",
    "                 #print(\"INSERT INTO \" +board+\"_\" +d.strftime(\"%Y\")+\"(Title,Time,Board,Content,Url)\" \"VALUES(%s,%s,%s,%s,%s)\")\n",
    "        except:\n",
    "                print(article_url +  \"    error \")\n",
    "                continue   \n",
    "               \n",
    "    d -= delta \n",
    "    db.close()\n",
    "\n",
    "        \n"
   ]
  },
  {
   "cell_type": "code",
   "execution_count": null,
   "metadata": {},
   "outputs": [],
   "source": [
    "#export to csv\n",
    "##table = pandas.DataFrame(data)\n",
    "##table\n",
    "##table.to_csv('out.csv')\n"
   ]
  }
 ],
 "metadata": {
  "kernelspec": {
   "display_name": "Python 3",
   "language": "python",
   "name": "python3"
  },
  "language_info": {
   "codemirror_mode": {
    "name": "ipython",
    "version": 3
   },
   "file_extension": ".py",
   "mimetype": "text/x-python",
   "name": "python",
   "nbconvert_exporter": "python",
   "pygments_lexer": "ipython3",
   "version": "3.6.0"
  }
 },
 "nbformat": 4,
 "nbformat_minor": 2
}
